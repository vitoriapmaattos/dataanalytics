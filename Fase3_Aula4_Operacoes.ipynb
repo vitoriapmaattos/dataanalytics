{
  "nbformat": 4,
  "nbformat_minor": 0,
  "metadata": {
    "colab": {
      "provenance": [],
      "authorship_tag": "ABX9TyOdaed4Pb9i1L0Rkp5x/vua",
      "include_colab_link": true
    },
    "kernelspec": {
      "name": "python3",
      "display_name": "Python 3"
    },
    "language_info": {
      "name": "python"
    }
  },
  "cells": [
    {
      "cell_type": "markdown",
      "metadata": {
        "id": "view-in-github",
        "colab_type": "text"
      },
      "source": [
        "<a href=\"https://colab.research.google.com/github/vitoriapmaattos/dataanalytics/blob/main/Fase3_Aula4_Operacoes.ipynb\" target=\"_parent\"><img src=\"https://colab.research.google.com/assets/colab-badge.svg\" alt=\"Open In Colab\"/></a>"
      ]
    },
    {
      "cell_type": "code",
      "execution_count": null,
      "metadata": {
        "colab": {
          "base_uri": "https://localhost:8080/"
        },
        "id": "aITlD_rxDjdS",
        "outputId": "627280d5-8d06-4bcc-8843-a19a87bf35fb"
      },
      "outputs": [
        {
          "output_type": "stream",
          "name": "stdout",
          "text": [
            "Requirement already satisfied: pyspark in /usr/local/lib/python3.10/dist-packages (3.5.2)\n",
            "Requirement already satisfied: py4j==0.10.9.7 in /usr/local/lib/python3.10/dist-packages (from pyspark) (0.10.9.7)\n"
          ]
        }
      ],
      "source": [
        "#Instalando o PySpark\n",
        "\n",
        "!pip install pyspark"
      ]
    },
    {
      "cell_type": "code",
      "source": [
        "#Instalando o FindSpark\n",
        "\n",
        "!pip install findspark"
      ],
      "metadata": {
        "colab": {
          "base_uri": "https://localhost:8080/"
        },
        "id": "aD8X9OjSD-lA",
        "outputId": "6cde752e-ac10-4bbd-ff83-9fdd8219957c"
      },
      "execution_count": null,
      "outputs": [
        {
          "output_type": "stream",
          "name": "stdout",
          "text": [
            "Requirement already satisfied: findspark in /usr/local/lib/python3.10/dist-packages (2.0.1)\n"
          ]
        }
      ]
    },
    {
      "cell_type": "code",
      "source": [
        "#Importando o SparkContext e o SparkSession\n",
        "\n",
        "from pyspark import SparkContext\n",
        "from pyspark.sql import SparkSession"
      ],
      "metadata": {
        "id": "Sq69nK8HEAvX"
      },
      "execution_count": null,
      "outputs": []
    },
    {
      "cell_type": "code",
      "source": [
        "sc = SparkContext.getOrCreate() #Iniciando o Context"
      ],
      "metadata": {
        "id": "anOKWa6cFWTf"
      },
      "execution_count": null,
      "outputs": []
    },
    {
      "cell_type": "code",
      "source": [
        "spark = SparkSession.builder.appName('PySpark Data Frame').getOrCreate() #Criando o aplicativo"
      ],
      "metadata": {
        "id": "9mvFJyjWEJq1"
      },
      "execution_count": null,
      "outputs": []
    },
    {
      "cell_type": "markdown",
      "source": [
        "***Transformações***\n",
        "\n",
        "Operações de transformação de dados (decomposição, mapeamento redução de dados)\n"
      ],
      "metadata": {
        "id": "HBYP6g6QFsjL"
      }
    },
    {
      "cell_type": "code",
      "source": [
        "#FUNÇÃO MAP: Mapeia os dados e realiza transformações, nesse caso a multiplicação por 2\n",
        "\n",
        "data = [1, 2, 3, 4, 5] #Criando uma base de dados\n",
        "myrdd = sc.parallelize(data) #Instanciando essa base de dados em um RDD\n",
        "newrdd = myrdd.map(lambda x: x * 2) #Aplicando a transformação nos dados do 1º RDD e criando um 2º RDD\n",
        "print(newrdd.collect())  #Ação que retorna todos os elementos do RDD\n"
      ],
      "metadata": {
        "colab": {
          "base_uri": "https://localhost:8080/"
        },
        "id": "tCSTlirhFi3_",
        "outputId": "34197790-253f-45be-aaee-f07c7e2c09fd"
      },
      "execution_count": null,
      "outputs": [
        {
          "output_type": "stream",
          "name": "stdout",
          "text": [
            "[2, 4, 6, 8, 10]\n"
          ]
        }
      ]
    },
    {
      "cell_type": "code",
      "source": [
        "#FUNÇÃO FILTER: Filtra os dados que são divisiveis por 2\n",
        "\n",
        "data = [1, 2, 3, 4, 5, 6, 7, 8, 9, 10] #Criando uma base de dados\n",
        "myrdd = sc.parallelize(data) #Instanciando essa base de dados em um RDD\n",
        "newrdd = myrdd.filter(lambda x: x % 2 == 0) #Aplicando a transformação nos dados do 1º RDD e criando um 2º RDD\n",
        "print(newrdd.collect())  #Ação que retorna todos os elementos do RDD"
      ],
      "metadata": {
        "colab": {
          "base_uri": "https://localhost:8080/"
        },
        "id": "evGFO0CrGX23",
        "outputId": "f2c5ec19-9223-4f92-cd4f-82a425b2ccec"
      },
      "execution_count": null,
      "outputs": [
        {
          "output_type": "stream",
          "name": "stdout",
          "text": [
            "[2, 4, 6, 8, 10]\n"
          ]
        }
      ]
    },
    {
      "cell_type": "code",
      "source": [
        "#FUNÇÃO DISTINCT: considera somente os valores distintos\n",
        "\n",
        "data = [1, 1, 2, 2, 3, 3, 4, 4, 5, 5] #Criando uma base de dados\n",
        "myrdd = sc.parallelize(data) #Instanciando essa base de dados em um RDD\n",
        "newrdd = myrdd.distinct() #Aplicando a transformação nos dados do 1º RDD e criando um 2º RDD\n",
        "print(newrdd.collect())  #Ação que retorna todos os elementos do RDD\n",
        "print(newrdd.count()) #Conta os itens distintos"
      ],
      "metadata": {
        "colab": {
          "base_uri": "https://localhost:8080/"
        },
        "id": "a7tq5wVeHOfP",
        "outputId": "3267624e-f2e8-4adf-bf29-503788644b75"
      },
      "execution_count": null,
      "outputs": [
        {
          "output_type": "stream",
          "name": "stdout",
          "text": [
            "[2, 4, 1, 3, 5]\n",
            "5\n"
          ]
        }
      ]
    },
    {
      "cell_type": "code",
      "source": [
        "#FUNÇÃO GROUP BY KEY: Agrupa os dados por uma \"chave\"\n",
        "\n",
        "myrdd = sc.parallelize([('a', 1), ('a', 2), ('a', 3), ('b', 1)]) #Criando uma base de dados e instanciando essa base de dados em um RDD\n",
        "resultList = myrdd.groupByKey().mapValues(list) #Aplicando a transformação nos dados do 1º RDD e criando um 2º RDD\n",
        "resultList.collect() #Ação que retorna todos os elementos do RDD"
      ],
      "metadata": {
        "colab": {
          "base_uri": "https://localhost:8080/"
        },
        "id": "WUdFtykWH1XJ",
        "outputId": "7677c996-c6bc-404a-c623-e89890bf3381"
      },
      "execution_count": null,
      "outputs": [
        {
          "output_type": "execute_result",
          "data": {
            "text/plain": [
              "[('b', [1]), ('a', [1, 2, 3])]"
            ]
          },
          "metadata": {},
          "execution_count": 18
        }
      ]
    },
    {
      "cell_type": "code",
      "source": [
        "#FUNÇÃO REDUCE BY KEY:Reduz os dados com base em uma \"chave\"\n",
        "from operator import add #Importando a função de soma\n",
        "myrdd = sc.parallelize([('a', 1), ('a', 2), ('a', 3), ('b', 1)]) #Criando uma base de dados e instanciando essa base de dados em um RDD\n",
        "newrdd = myrdd.reduceByKey(add) #Aplicando a transformação nos dados do 1º RDD e criando um 2º RDD\n",
        "newrdd.collect() #Ação que retorna todos os elementos do RDD"
      ],
      "metadata": {
        "colab": {
          "base_uri": "https://localhost:8080/"
        },
        "id": "BcyccMrxIbOs",
        "outputId": "5448bd30-7b00-476f-fbd6-40b0527a97cd"
      },
      "execution_count": null,
      "outputs": [
        {
          "output_type": "execute_result",
          "data": {
            "text/plain": [
              "[('b', 1), ('a', 6)]"
            ]
          },
          "metadata": {},
          "execution_count": 21
        }
      ]
    },
    {
      "cell_type": "code",
      "source": [
        "#FUNÇÃO SORT BY KEY: Ordena os dados por uma \"chave\"\n",
        "\n",
        "myrdd = sc.parallelize([('c', 1), ('d', 2), ('a', 3), ('b', 4)]) #Criando uma base de dados e instanciando essa base de dados em um RDD\n",
        "newrdd = myrdd.sortByKey() #Aplicando a transformação nos dados do 1º RDD e criando um 2º RDD\n",
        "newrdd.collect() #Ação que retorna todos os elementos do RDD"
      ],
      "metadata": {
        "colab": {
          "base_uri": "https://localhost:8080/"
        },
        "id": "ha2hlNwpI6iS",
        "outputId": "341da3d2-1a94-41f2-aa1d-a69463746a37"
      },
      "execution_count": null,
      "outputs": [
        {
          "output_type": "execute_result",
          "data": {
            "text/plain": [
              "[('a', 3), ('b', 4), ('c', 1), ('d', 2)]"
            ]
          },
          "metadata": {},
          "execution_count": 22
        }
      ]
    },
    {
      "cell_type": "code",
      "source": [
        "#FUNÇÃO UNION: Unificando as duas bases de dados\n",
        "\n",
        "myrdd1 = sc.parallelize([1, 2, 3, 4]) #Criando uma base de dados e instanciando essa base de dados em um RDD\n",
        "myrdd2 = sc.parallelize([3, 4, 5, 6, 7]) #Criando uma base de dados e instanciando essa base de dados em um RDD\n",
        "newrdd = myrdd1.union(myrdd2) #Aplicando a transformação nos dados do 1º RDD e criando um 2º RDD\n",
        "newrdd.collect() #Ação que retorna todos os elementos do RDD"
      ],
      "metadata": {
        "colab": {
          "base_uri": "https://localhost:8080/"
        },
        "id": "slB8-2hFJc7J",
        "outputId": "cc9e75a7-8677-42cd-8074-6202d5107db6"
      },
      "execution_count": null,
      "outputs": [
        {
          "output_type": "execute_result",
          "data": {
            "text/plain": [
              "[1, 2, 3, 4, 3, 4, 5, 6, 7]"
            ]
          },
          "metadata": {},
          "execution_count": 23
        }
      ]
    },
    {
      "cell_type": "markdown",
      "source": [
        "***Ações***\n",
        "\n",
        "Operação de ação de dados (ações executadas de maneira física nos dados)"
      ],
      "metadata": {
        "id": "bxvtlW83KF9t"
      }
    },
    {
      "cell_type": "code",
      "source": [
        "#FUNÇÃO COUNT: Contando valores sem distinção\n",
        "\n",
        "data = [1, 1, 1, 4, 5, 6, 7, 8, 9, 10] #Criando uma base de dados\n",
        "myrdd = sc.parallelize(data) #Instanciando essa base de dados em um RDD\n",
        "myrdd.count() #Ação que retorna a quantidade de elementos do RDD"
      ],
      "metadata": {
        "colab": {
          "base_uri": "https://localhost:8080/"
        },
        "id": "eEkdTrHVKLta",
        "outputId": "3186d925-7e9b-4adc-f7ad-3dccf1692436"
      },
      "execution_count": null,
      "outputs": [
        {
          "output_type": "execute_result",
          "data": {
            "text/plain": [
              "10"
            ]
          },
          "metadata": {},
          "execution_count": 25
        }
      ]
    },
    {
      "cell_type": "code",
      "source": [
        "#FUNÇÃO REDUCE:\n",
        "\n",
        "data = [1, 2, 3, 4, 5] #Criando uma base de dados\n",
        "myrdd = sc.parallelize(data) #Instanciando essa base de dados em um RDD\n",
        "newrdd = myrdd.reduce(lambda x, y: x * y) #Aplicando a transformação nos dados do 1º RDD e criando um 2º RDD\n",
        "newrdd #Ação que retorna todos os elementos do RDD"
      ],
      "metadata": {
        "colab": {
          "base_uri": "https://localhost:8080/"
        },
        "id": "JRd3sMu_Kiqn",
        "outputId": "0b9fe673-6d15-4540-a12a-178ea94a8c69"
      },
      "execution_count": null,
      "outputs": [
        {
          "output_type": "execute_result",
          "data": {
            "text/plain": [
              "120"
            ]
          },
          "metadata": {},
          "execution_count": 26
        }
      ]
    },
    {
      "cell_type": "code",
      "source": [
        "#FUNÇÃO FOREACH:\n",
        "\n",
        "def fun(x):\n",
        "  print(x)\n",
        "\n",
        "data = ['Scala', 'Python', 'Java', 'R'] #Criando uma base de dados\n",
        "myrdd = sc.parallelize(data) #Instanciando essa base de dados em um RDD\n",
        "myrdd.foreach(fun) #Ação que retorna todos os elementos do RDD"
      ],
      "metadata": {
        "id": "Bkz6XnlaK6Aj"
      },
      "execution_count": null,
      "outputs": []
    },
    {
      "cell_type": "code",
      "source": [
        "#FUNÇÃO COUNT BY VALUE: Contagem de valores baseado no conteúdo do RDD\n",
        "\n",
        "data = ['Python', 'Scala', 'Python', 'R', 'Python', 'Java', 'R'] #Criando uma base de dados\n",
        "myrdd = sc.parallelize(data) #Instanciando essa base de dados em um RDD\n",
        "myrdd.countByValue().items() #Ação que retorna a contagem por valor"
      ],
      "metadata": {
        "colab": {
          "base_uri": "https://localhost:8080/"
        },
        "id": "2jUCa0j2LcM7",
        "outputId": "dbc44509-18ad-4599-d4ff-656f6589eed0"
      },
      "execution_count": null,
      "outputs": [
        {
          "output_type": "execute_result",
          "data": {
            "text/plain": [
              "dict_items([('Python', 3), ('Scala', 1), ('R', 2), ('Java', 1)])"
            ]
          },
          "metadata": {},
          "execution_count": 29
        }
      ]
    },
    {
      "cell_type": "code",
      "source": [
        "#FUNÇÃO COUNT BY KEY: Contagem pelas chaves\n",
        "\n",
        "data = [('a', 1), ('b', 1), ('c', 1), ('a', 1)] #Criando uma base de dados\n",
        "myrdd = sc.parallelize(data) #Instanciando essa base de dados em um RDD\n",
        "myrdd.countByKey().items()"
      ],
      "metadata": {
        "colab": {
          "base_uri": "https://localhost:8080/"
        },
        "id": "j_IWxsPxL_3x",
        "outputId": "17ee91f5-84c5-43e3-8c6a-7f0394b41834"
      },
      "execution_count": null,
      "outputs": [
        {
          "output_type": "execute_result",
          "data": {
            "text/plain": [
              "dict_items([('a', 2), ('b', 1), ('c', 1)])"
            ]
          },
          "metadata": {},
          "execution_count": 34
        }
      ]
    },
    {
      "cell_type": "code",
      "source": [
        "#FUNÇÃO TAKE(N): Limitar o resultado da operação, nesse caso retornando os 3 primeiros\n",
        "\n",
        "data = [2, 5, 3, 8, 4] #Criando uma base de dados\n",
        "myrdd = sc.parallelize(data) #Instanciando essa base de dados em um RDD\n",
        "myrdd.take(3) #Ação que retorna os 5 primeiros elementos do RDD"
      ],
      "metadata": {
        "colab": {
          "base_uri": "https://localhost:8080/"
        },
        "id": "az-yvhczMKzc",
        "outputId": "dab0b1c4-88db-4963-e22b-4da333ba30fb"
      },
      "execution_count": null,
      "outputs": [
        {
          "output_type": "execute_result",
          "data": {
            "text/plain": [
              "[2, 5, 3]"
            ]
          },
          "metadata": {},
          "execution_count": 36
        }
      ]
    },
    {
      "cell_type": "code",
      "source": [
        "#FUNÇÃO TOP(N): Limitar o resultado da operação, nesse caso ordenando os dados e retornando os 3 primeiros itens ordenados do maior para o menos\n",
        "\n",
        "data = [2, 5, 3, 8, 4] #Criando uma base de dados\n",
        "myrdd = sc.parallelize(data) #Instanciando essa base de dados em um RDD\n",
        "myrdd.top(3) #Ação que retorna os 5 primeiros elementos do RDD"
      ],
      "metadata": {
        "colab": {
          "base_uri": "https://localhost:8080/"
        },
        "id": "G1sWMQiKMlYZ",
        "outputId": "d9a66fc6-47d5-4f7f-e746-fa7e4bee75ec"
      },
      "execution_count": null,
      "outputs": [
        {
          "output_type": "execute_result",
          "data": {
            "text/plain": [
              "[8, 5, 4]"
            ]
          },
          "metadata": {},
          "execution_count": 37
        }
      ]
    }
  ]
}