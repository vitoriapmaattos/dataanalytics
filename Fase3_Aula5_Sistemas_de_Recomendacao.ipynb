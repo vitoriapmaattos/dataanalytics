{
  "nbformat": 4,
  "nbformat_minor": 0,
  "metadata": {
    "colab": {
      "provenance": [],
      "authorship_tag": "ABX9TyOVIs2kSGQFSUCPkBciPbFa",
      "include_colab_link": true
    },
    "kernelspec": {
      "name": "python3",
      "display_name": "Python 3"
    },
    "language_info": {
      "name": "python"
    }
  },
  "cells": [
    {
      "cell_type": "markdown",
      "metadata": {
        "id": "view-in-github",
        "colab_type": "text"
      },
      "source": [
        "<a href=\"https://colab.research.google.com/github/vitoriapmaattos/dataanalytics/blob/main/Fase3_Aula5_Sistemas_de_Recomendacao.ipynb\" target=\"_parent\"><img src=\"https://colab.research.google.com/assets/colab-badge.svg\" alt=\"Open In Colab\"/></a>"
      ]
    },
    {
      "cell_type": "markdown",
      "source": [
        "**Modelo de Recomendação Simples**"
      ],
      "metadata": {
        "id": "_yNNh0DkSkXi"
      }
    },
    {
      "cell_type": "code",
      "execution_count": 2,
      "metadata": {
        "id": "Av1IfOUz55LK"
      },
      "outputs": [],
      "source": [
        "#Importando as bibliotecas estatisticas\n",
        "\n",
        "import scipy\n",
        "from scipy import stats\n",
        "import numpy as np"
      ]
    },
    {
      "cell_type": "code",
      "source": [
        "\n",
        "#Cria uma matriz com as notas dos filmes dadas por 3 usuários\n",
        "matrix = np.array([[8,0,3,4,6],[5,6,1,8,9],[8,0,0,5,10]])\n",
        "\n",
        "#Notas dos filmes para um novo usuário\n",
        "novoUser = [8,0,2,3,0]\n",
        "\n",
        "#Indica os filmes que o novo usuário não assistiu (0 para não assistido, 1 para assistido)\n",
        "nao_assistidos = [0,1,0,0,1]\n",
        "\n",
        "#Imprime a matriz de notas\n",
        "print(matrix)\n",
        "\n",
        "#Lista com os nomes dos filmes, correspondendo às colunas da matriz\n",
        "nomeFilmes = ['Round 6', 'A Invocação do Mal', '9 Desconhecidos', 'You', 'La Casa de Papel']"
      ],
      "metadata": {
        "colab": {
          "base_uri": "https://localhost:8080/"
        },
        "id": "WebhdPZXGnNo",
        "outputId": "e9915abb-e513-42de-9086-9776953a3e49"
      },
      "execution_count": 6,
      "outputs": [
        {
          "output_type": "stream",
          "name": "stdout",
          "text": [
            "[[ 8  0  3  4  6]\n",
            " [ 5  6  1  8  9]\n",
            " [ 8  0  0  5 10]]\n"
          ]
        }
      ]
    },
    {
      "cell_type": "code",
      "source": [
        "# Inicializa o vetor de similaridade com zeros para 3 usuários\n",
        "similarity = [0] * 3\n",
        "\n",
        "# Imprime alguns elementos da matriz para ilustrar\n",
        "print(matrix[0][0])  # Nota do primeiro usuário para o primeiro filme\n",
        "print(matrix[1][0])  # Nota do segundo usuário para o primeiro filme\n",
        "print(matrix[1,:])   # Notas de todos os filmes do segundo usuário\n",
        "\n",
        "# Para cada usuário na matriz...\n",
        "for i in range(0,3):\n",
        "    # Extrai as notas do usuário atual\n",
        "    temp = matrix[i,:]\n",
        "\n",
        "    print(i, temp) #Imprime o índice do usuário e suas notas\n",
        "\n",
        "    #Filtra as notas do usuário apenas para os filmes que o novo usuário assistiu\n",
        "    tempUser = [ t for n,t in zip(novoUser,temp) if n != 0 ]\n",
        "\n",
        "    #Filtra as notas do novo usuário para os filmes que ele assistiu\n",
        "    tempNovoUser = [n for n in novoUser if n != 0]\n",
        "\n",
        "    #Verificação das notas usadas na comparação\n",
        "    print('user:', i)\n",
        "    print(tempUser, tempNovoUser)\n",
        "\n",
        "    #Calcula a similaridade entre o novo usuário e o usuário atual usando o coeficiente de Pearson\n",
        "    similarity[i] = scipy.stats.pearsonr(tempUser,tempNovoUser)[0] #O primeiro valor retornado é o coeficiente de Pearson\n",
        "\n",
        "# Imprime as similaridades calculadas\n",
        "print()\n",
        "print(similarity)"
      ],
      "metadata": {
        "colab": {
          "base_uri": "https://localhost:8080/"
        },
        "id": "z6cCGaGWI26Q",
        "outputId": "ac978e9e-4114-4f8e-9e93-f1dee75a7e27"
      },
      "execution_count": 8,
      "outputs": [
        {
          "output_type": "stream",
          "name": "stdout",
          "text": [
            "8\n",
            "5\n",
            "[5 6 1 8 9]\n",
            "0 [8 0 3 4 6]\n",
            "user: 0\n",
            "[8, 3, 4] [8, 2, 3]\n",
            "1 [5 6 1 8 9]\n",
            "user: 1\n",
            "[5, 1, 8] [8, 2, 3]\n",
            "2 [ 8  0  0  5 10]\n",
            "user: 2\n",
            "[8, 0, 5] [8, 2, 3]\n",
            "\n",
            "[0.9994237971287663, 0.23621543814299698, 0.8723686098443353]\n"
          ]
        }
      ]
    },
    {
      "cell_type": "code",
      "source": [
        "#Dando peso para as notas dadas ao filme\n",
        "\n",
        "nota_peso = np.zeros((3,5)) #Cria uma matriz de zeros com 3 linhas (usuários) e 5 colunas (filmes) para armazenar as notas ponderadas\n",
        "\n",
        "for nUser in range(3): # Loop sobre cada usuário na matriz (3 usuários)\n",
        "  for nFilme in range(5): # Loop sobre cada filme (5 filmes)\n",
        "    #Exibe a estrutura da equação que será usada para calcular a nota ponderada, com placeholders\n",
        "    print('nota_peso[',nUser, '][',nFilme, '] = , nao_assistidos[',nFilme, '], * ,matrix[',nUser,'][',nFilme, '], * similarity[',nUser,']')\n",
        "\n",
        "    # Exibe a equação real com os valores atuais\n",
        "    print('nota_peso[',nUser, '][',nFilme, '] = ', nao_assistidos[nFilme], ' * ' ,matrix[nUser][nFilme], ' * ', similarity[nUser])\n",
        "\n",
        "    #Calcula a nota ponderada para o filme atual considerando se o novo usuário não assistiu,\n",
        "    #A nota dada pelo usuário atual, e a similaridade entre o usuário atual e o novo usuário\n",
        "    nota_peso[nUser][nFilme] = nao_assistidos[nFilme] * matrix[nUser][nFilme] * similarity[nUser]\n",
        "\n",
        "#Exibe a matriz final com as notas ponderadas para cada filme e cada usuário\n",
        "print(nota_peso)"
      ],
      "metadata": {
        "colab": {
          "base_uri": "https://localhost:8080/"
        },
        "id": "Q50paEBpN7FH",
        "outputId": "a5ce19d4-f7da-4e8f-d03f-1af60d6b72f3"
      },
      "execution_count": 11,
      "outputs": [
        {
          "output_type": "stream",
          "name": "stdout",
          "text": [
            "nota_peso[ 0 ][ 0 ] = , nao_assistidos[ 0 ], * ,matrix[ 0 ][ 0 ], * similarity[ 0 ]\n",
            "nota_peso[ 0 ][ 0 ] =  0  *  8  *  0.9994237971287663\n",
            "nota_peso[ 0 ][ 1 ] = , nao_assistidos[ 1 ], * ,matrix[ 0 ][ 1 ], * similarity[ 0 ]\n",
            "nota_peso[ 0 ][ 1 ] =  1  *  0  *  0.9994237971287663\n",
            "nota_peso[ 0 ][ 2 ] = , nao_assistidos[ 2 ], * ,matrix[ 0 ][ 2 ], * similarity[ 0 ]\n",
            "nota_peso[ 0 ][ 2 ] =  0  *  3  *  0.9994237971287663\n",
            "nota_peso[ 0 ][ 3 ] = , nao_assistidos[ 3 ], * ,matrix[ 0 ][ 3 ], * similarity[ 0 ]\n",
            "nota_peso[ 0 ][ 3 ] =  0  *  4  *  0.9994237971287663\n",
            "nota_peso[ 0 ][ 4 ] = , nao_assistidos[ 4 ], * ,matrix[ 0 ][ 4 ], * similarity[ 0 ]\n",
            "nota_peso[ 0 ][ 4 ] =  1  *  6  *  0.9994237971287663\n",
            "nota_peso[ 1 ][ 0 ] = , nao_assistidos[ 0 ], * ,matrix[ 1 ][ 0 ], * similarity[ 1 ]\n",
            "nota_peso[ 1 ][ 0 ] =  0  *  5  *  0.23621543814299698\n",
            "nota_peso[ 1 ][ 1 ] = , nao_assistidos[ 1 ], * ,matrix[ 1 ][ 1 ], * similarity[ 1 ]\n",
            "nota_peso[ 1 ][ 1 ] =  1  *  6  *  0.23621543814299698\n",
            "nota_peso[ 1 ][ 2 ] = , nao_assistidos[ 2 ], * ,matrix[ 1 ][ 2 ], * similarity[ 1 ]\n",
            "nota_peso[ 1 ][ 2 ] =  0  *  1  *  0.23621543814299698\n",
            "nota_peso[ 1 ][ 3 ] = , nao_assistidos[ 3 ], * ,matrix[ 1 ][ 3 ], * similarity[ 1 ]\n",
            "nota_peso[ 1 ][ 3 ] =  0  *  8  *  0.23621543814299698\n",
            "nota_peso[ 1 ][ 4 ] = , nao_assistidos[ 4 ], * ,matrix[ 1 ][ 4 ], * similarity[ 1 ]\n",
            "nota_peso[ 1 ][ 4 ] =  1  *  9  *  0.23621543814299698\n",
            "nota_peso[ 2 ][ 0 ] = , nao_assistidos[ 0 ], * ,matrix[ 2 ][ 0 ], * similarity[ 2 ]\n",
            "nota_peso[ 2 ][ 0 ] =  0  *  8  *  0.8723686098443353\n",
            "nota_peso[ 2 ][ 1 ] = , nao_assistidos[ 1 ], * ,matrix[ 2 ][ 1 ], * similarity[ 2 ]\n",
            "nota_peso[ 2 ][ 1 ] =  1  *  0  *  0.8723686098443353\n",
            "nota_peso[ 2 ][ 2 ] = , nao_assistidos[ 2 ], * ,matrix[ 2 ][ 2 ], * similarity[ 2 ]\n",
            "nota_peso[ 2 ][ 2 ] =  0  *  0  *  0.8723686098443353\n",
            "nota_peso[ 2 ][ 3 ] = , nao_assistidos[ 3 ], * ,matrix[ 2 ][ 3 ], * similarity[ 2 ]\n",
            "nota_peso[ 2 ][ 3 ] =  0  *  5  *  0.8723686098443353\n",
            "nota_peso[ 2 ][ 4 ] = , nao_assistidos[ 4 ], * ,matrix[ 2 ][ 4 ], * similarity[ 2 ]\n",
            "nota_peso[ 2 ][ 4 ] =  1  *  10  *  0.8723686098443353\n",
            "[[0.         0.         0.         0.         5.99654278]\n",
            " [0.         1.41729263 0.         0.         2.12593894]\n",
            " [0.         0.         0.         0.         8.7236861 ]]\n"
          ]
        }
      ]
    },
    {
      "cell_type": "code",
      "source": [
        "#Somando as notas com os pesos\n",
        "notas_acumuladas = np.sum(nota_peso.T,axis=1)\n",
        "print(notas_acumuladas) #Exibe as notas acumuladas para cada filme"
      ],
      "metadata": {
        "colab": {
          "base_uri": "https://localhost:8080/"
        },
        "id": "hFi-DxfHP-Tx",
        "outputId": "15490a01-8031-4fae-b314-058e7419f017"
      },
      "execution_count": 12,
      "outputs": [
        {
          "output_type": "stream",
          "name": "stdout",
          "text": [
            "[ 0.          1.41729263  0.          0.         16.84616782]\n"
          ]
        }
      ]
    },
    {
      "cell_type": "code",
      "source": [
        "temp_peso = nota_peso #Cria uma cópia da matriz nota_peso (inicialmente, ambas apontam para a mesma matriz)\n",
        "temp_peso[nota_peso > 0] = 1 #Substitui todos os valores de temp_peso maiores que 0 por 1\n",
        "print(temp_peso) #Exibe a matriz temp_peso após a modificação\n",
        "\n",
        "\n",
        "temp_similaridade = np.zeros((3,5)) #Cria uma matriz de zeros 3x5 para armazenar a similaridade ponderada\n",
        "for nUser in range(3): #Itera sobre os 3 usuários\n",
        "  for nFilme in range(5): #Itera sobre os 5 filmes\n",
        "\n",
        "    #Calcula a similaridade ponderada para cada filme e usuário, considerando se o filme foi recomendado\n",
        "    temp_similaridade[nUser][nFilme] = temp_peso[nUser][nFilme] * similarity[nUser]\n",
        "\n",
        "print(temp_similaridade) #Exibe a matriz temp_similaridade com as similaridades ponderadas\n",
        "\n",
        "similaridade_acumulada = np.sum(temp_similaridade.T,axis=1) #Calcula a soma acumulada das similaridades para cada filme (somando as colunas da transposta)\n",
        "print(similaridade_acumulada) #Exibe a similaridade acumulada para cada filme"
      ],
      "metadata": {
        "colab": {
          "base_uri": "https://localhost:8080/"
        },
        "id": "_1WOi43yQNlq",
        "outputId": "7f2a22d2-f1bb-4810-ad7b-a079f64e9abb"
      },
      "execution_count": 13,
      "outputs": [
        {
          "output_type": "stream",
          "name": "stdout",
          "text": [
            "[[0. 0. 0. 0. 1.]\n",
            " [0. 1. 0. 0. 1.]\n",
            " [0. 0. 0. 0. 1.]]\n",
            "[[0.         0.         0.         0.         0.9994238 ]\n",
            " [0.         0.23621544 0.         0.         0.23621544]\n",
            " [0.         0.         0.         0.         0.87236861]]\n",
            "[0.         0.23621544 0.         0.         2.10800785]\n"
          ]
        }
      ]
    },
    {
      "cell_type": "code",
      "source": [
        "nota_final = [0] * 5  #Inicializa uma lista de tamanho 5 com zeros, que armazenará a nota final normalizada para cada filme\n",
        "\n",
        "#Normalização das notas acumuladas para cada filme\n",
        "for nFilme in range(5):  #Itera sobre os 5 filmes\n",
        "    if(similaridade_acumulada[nFilme] > 0):  #Verifica se a similaridade acumulada para o filme é maior que 0\n",
        "        #Se a similaridade acumulada for maior que 0, normaliza a nota acumulada dividindo pela similaridade acumulada\n",
        "        nota_final[nFilme] = notas_acumuladas[nFilme] / similaridade_acumulada[nFilme]\n",
        "    else:\n",
        "        #Se a similaridade acumulada for 0 (ou não houver recomendação relevante), define a nota final como 0\n",
        "        nota_final[nFilme] = 0\n",
        "\n",
        "print(nota_final)  #Exibe a lista nota_final, que contém as notas normalizadas para cada filme"
      ],
      "metadata": {
        "colab": {
          "base_uri": "https://localhost:8080/"
        },
        "id": "n5u8kk7iRHC5",
        "outputId": "0af41ff1-8d3e-4a02-b2e1-fe81830c61ec"
      },
      "execution_count": 14,
      "outputs": [
        {
          "output_type": "stream",
          "name": "stdout",
          "text": [
            "[0, 6.0, 0, 0, 7.991510972567143]\n"
          ]
        }
      ]
    },
    {
      "cell_type": "code",
      "source": [
        "nAssistidos = sum(nao_assistidos)  #Calcula o número de filmes que o novo usuário ainda não assistiu (soma os valores em nao_assistidos)\n",
        "\n",
        "#Ordena os índices dos filmes com base nas notas finais em ordem decrescente\n",
        "notasOrdenadasIndex = sorted(range(len(nota_final)), key=nota_final.__getitem__)[::-1][0:nAssistidos]\n",
        "print(notasOrdenadasIndex)  #Exibe os índices dos filmes ordenados pelas notas finais, dos melhores para os piores\n",
        "\n",
        "#Imprime os nomes dos filmes recomendados junto com suas notas finais\n",
        "for i in notasOrdenadasIndex:\n",
        "    print(nomeFilmes[i], '- Nota: ', nota_final[i])  #Exibe o nome do filme e a nota final correspondente\n"
      ],
      "metadata": {
        "colab": {
          "base_uri": "https://localhost:8080/"
        },
        "id": "oSJ2piuxRjvi",
        "outputId": "b41b38c6-8e52-43b5-b920-fd33951481db"
      },
      "execution_count": 16,
      "outputs": [
        {
          "output_type": "stream",
          "name": "stdout",
          "text": [
            "[4, 1]\n",
            "La Casa de Papel - Nota:  7.991510972567143\n",
            "A Invocação do Mal - Nota:  6.0\n"
          ]
        }
      ]
    }
  ]
}