{
  "nbformat": 4,
  "nbformat_minor": 0,
  "metadata": {
    "colab": {
      "provenance": [],
      "authorship_tag": "ABX9TyNqZ5RL1ZnZpXQGF0Tzn1jT",
      "include_colab_link": true
    },
    "kernelspec": {
      "name": "python3",
      "display_name": "Python 3"
    },
    "language_info": {
      "name": "python"
    }
  },
  "cells": [
    {
      "cell_type": "markdown",
      "metadata": {
        "id": "view-in-github",
        "colab_type": "text"
      },
      "source": [
        "<a href=\"https://colab.research.google.com/github/vitoriapmaattos/dataanalytics/blob/main/Fase3_Aula7_Consultas_com_Bigquery.ipynb\" target=\"_parent\"><img src=\"https://colab.research.google.com/assets/colab-badge.svg\" alt=\"Open In Colab\"/></a>"
      ]
    },
    {
      "cell_type": "markdown",
      "source": [
        "### CÓDIGO\n",
        "\n",
        "Iniciamos trazendo todos os resultados da base, utilizando o *.\n",
        "\n",
        "```sql\n",
        "#Selecionando todos os valores da base, limitando o número de linhas\n",
        "SELECT *\n",
        "FROM `bigquery-public-data.iowa_liquor_sales.sales`\n",
        "LIMIT 1000\n",
        "```\n",
        "\n",
        "Alteramos a consulta para termos somente as colunas necessarias para a análise, nessa situação optamos pelas colunas `invoice_and_item_number, date, store_number`\n",
        "\n",
        "```sql\n",
        "SELECT invoice_and_item_number, date, store_number\n",
        "FROM `bigquery-public-data.iowa_liquor_sales.sales`\n",
        "LIMIT 1000\n",
        "```\n",
        "\n",
        "Vamos imaginar uma situação, precisamos analisar somente a loja 5211. Começamos incluindo um WHERE no código.\n",
        "\n",
        "```sql\n",
        "SELECT invoice_and_item_number, date, store_number\n",
        "FROM `bigquery-public-data.iowa_liquor_sales.sales`\n",
        "WHERE store_number = '5211'\n",
        "```\n",
        "\n",
        "Agora queremos contar a quantidade de transações realizadas por dia na loja 5211.\n",
        "\n",
        "```sql\n",
        "SELECT COUNT(invoice_and_item_number) as transactions,\n",
        "       date,\n",
        "       store_number\n",
        "FROM `bigquery-public-data.iowa_liquor_sales.sales`\n",
        "WHERE store_number = '5211'\n",
        "GROUP BY date, store_number\n",
        "ORDER BY date ASC\n",
        "\n",
        "```"
      ],
      "metadata": {
        "id": "_RtXflGrxqhj"
      }
    }
  ]
}