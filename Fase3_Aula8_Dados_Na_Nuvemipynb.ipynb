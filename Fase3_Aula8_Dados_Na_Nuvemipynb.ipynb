{
  "nbformat": 4,
  "nbformat_minor": 0,
  "metadata": {
    "colab": {
      "provenance": [],
      "authorship_tag": "ABX9TyMEk3U353qi9IOyig7H6fQV",
      "include_colab_link": true
    },
    "kernelspec": {
      "name": "python3",
      "display_name": "Python 3"
    },
    "language_info": {
      "name": "python"
    }
  },
  "cells": [
    {
      "cell_type": "markdown",
      "metadata": {
        "id": "view-in-github",
        "colab_type": "text"
      },
      "source": [
        "<a href=\"https://colab.research.google.com/github/vitoriapmaattos/dataanalytics/blob/main/Fase3_Aula8_Dados_Na_Nuvemipynb.ipynb\" target=\"_parent\"><img src=\"https://colab.research.google.com/assets/colab-badge.svg\" alt=\"Open In Colab\"/></a>"
      ]
    },
    {
      "cell_type": "markdown",
      "source": [
        "### CÓDIGO\n",
        "\n",
        "```sql\n",
        "#Consulta completa com agrupamentos em três grandes grupos: nome da loja, data e categoria do produto.\n",
        "SELECT date,\n",
        "       store_name,\n",
        "       category_name,\n",
        "       COUNT(distinct invoice_and_item_number) as transactions,\n",
        "       SUM(volume_sold_gallons) as total_volume_galons,\n",
        "       SUM(volume_sold_liters) as total_volume_liters,\n",
        "       SUM(sale_dollars) as total_revenue_sale,\n",
        "       AVG(sale_dollars) as avg_revenue_sale,\n",
        "       MIN(sale_dollars) as min_revenue_sale,\n",
        "       MAX(sale_dollars) as max_revenue_sale,\n",
        "FROM `bigquery-public-data.iowa_liquor_sales.sales`\n",
        "GROUP BY date, store_name, category_name\n",
        "ORDER BY date ASC\n",
        "```\n",
        "\n",
        "Essa primeira consulta retornou muitas linhas, então reduzimos os agrupamentos comentando o código, assim retornando uma consulta menor.\n",
        "\n",
        "```sql\n",
        "SELECT date,\n",
        "       /* store_name,\n",
        "       category_name, */\n",
        "       COUNT(distinct invoice_and_item_number) as transactions,\n",
        "       SUM(volume_sold_gallons) as total_volume_galons,\n",
        "       SUM(volume_sold_liters) as total_volume_liters,\n",
        "       SUM(sale_dollars) as total_revenue_sale,\n",
        "       AVG(sale_dollars) as avg_revenue_sale,\n",
        "       MIN(sale_dollars) as min_revenue_sale,\n",
        "       MAX(sale_dollars) as max_revenue_sale,\n",
        "FROM `bigquery-public-data.iowa_liquor_sales.sales`\n",
        "GROUP BY date /* store_name, category_name */\n",
        "ORDER BY date ASC\n",
        "```"
      ],
      "metadata": {
        "id": "Of6AVF-P_3YI"
      }
    }
  ]
}