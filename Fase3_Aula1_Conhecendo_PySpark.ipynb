{
  "nbformat": 4,
  "nbformat_minor": 0,
  "metadata": {
    "colab": {
      "provenance": [],
      "authorship_tag": "ABX9TyP09B5WyY7s/LNnqS9bErgE",
      "include_colab_link": true
    },
    "kernelspec": {
      "name": "python3",
      "display_name": "Python 3"
    },
    "language_info": {
      "name": "python"
    }
  },
  "cells": [
    {
      "cell_type": "markdown",
      "metadata": {
        "id": "view-in-github",
        "colab_type": "text"
      },
      "source": [
        "<a href=\"https://colab.research.google.com/github/vitoriapmaattos/dataanalytics/blob/main/Fase3_Aula1_Conhecendo_PySpark.ipynb\" target=\"_parent\"><img src=\"https://colab.research.google.com/assets/colab-badge.svg\" alt=\"Open In Colab\"/></a>"
      ]
    },
    {
      "cell_type": "markdown",
      "source": [
        "# Introdução ao PySpark\n",
        "\n",
        "\n"
      ],
      "metadata": {
        "id": "SkSbDH-8GKsB"
      }
    },
    {
      "cell_type": "code",
      "source": [
        "#Instalando o PySpark\n",
        "!pip install pyspark"
      ],
      "metadata": {
        "colab": {
          "base_uri": "https://localhost:8080/"
        },
        "id": "QKdEhikVGMdi",
        "outputId": "b8ca3893-434b-4672-cd87-c0b4dc92f0df"
      },
      "execution_count": 2,
      "outputs": [
        {
          "output_type": "stream",
          "name": "stdout",
          "text": [
            "Requirement already satisfied: pyspark in /usr/local/lib/python3.10/dist-packages (3.5.2)\n",
            "Requirement already satisfied: py4j==0.10.9.7 in /usr/local/lib/python3.10/dist-packages (from pyspark) (0.10.9.7)\n"
          ]
        }
      ]
    },
    {
      "cell_type": "code",
      "source": [
        "#Instalando a  FindSpark\n",
        "!pip install findspark"
      ],
      "metadata": {
        "colab": {
          "base_uri": "https://localhost:8080/"
        },
        "id": "I6BM9CzHGQcJ",
        "outputId": "733b7a4f-9ad5-4cfc-fb86-c57f1c20af02"
      },
      "execution_count": 5,
      "outputs": [
        {
          "output_type": "stream",
          "name": "stdout",
          "text": [
            "Requirement already satisfied: findspark in /usr/local/lib/python3.10/dist-packages (2.0.1)\n"
          ]
        }
      ]
    },
    {
      "cell_type": "code",
      "source": [
        "import findspark #importando o findspark\n",
        "findspark.init() #iniciando o findspark\n",
        "from pyspark.sql import SparkSession #importando o SparkSession\n",
        "spark = SparkSession.builder.master(\"local[*]\").getOrCreate() #criando uma sessão Spark\n"
      ],
      "metadata": {
        "id": "NQCrwwNnHbTo"
      },
      "execution_count": 6,
      "outputs": []
    },
    {
      "cell_type": "code",
      "source": [
        "#Testando a utilização do spark sql\n",
        "df = spark.sql('''select 'spark' as hello''') #criando um dataframe com o nome spark\n",
        "df.show() #mostrando o dataframe"
      ],
      "metadata": {
        "colab": {
          "base_uri": "https://localhost:8080/"
        },
        "id": "plid8BWEHx9i",
        "outputId": "c06e8fbf-6bd2-42d3-b414-9408f2130a15"
      },
      "execution_count": 10,
      "outputs": [
        {
          "output_type": "stream",
          "name": "stdout",
          "text": [
            "+-----+\n",
            "|hello|\n",
            "+-----+\n",
            "|spark|\n",
            "+-----+\n",
            "\n"
          ]
        }
      ]
    },
    {
      "cell_type": "code",
      "source": [
        "#Impotando as bibliotecas do Spark\n",
        "from pyspark.sql import Row, DataFrame #importando as classes Row e DataFrame\n",
        "from pyspark.sql.types import StringType, StructType, StructField, IntegerType #importando os tipos de dados\n",
        "from pyspark.sql.functions import col, expr, lit, substring, concat, concat_ws, when, coalesce #importando as funções do pyspark\n",
        "from pyspark.sql import functions as F #para mais funções do sql\n",
        "from functools import reduce #para juntar dataframes"
      ],
      "metadata": {
        "id": "xVG7bGr5H4r6"
      },
      "execution_count": 12,
      "outputs": []
    },
    {
      "cell_type": "markdown",
      "source": [
        "# Data Manipulation usando Spark"
      ],
      "metadata": {
        "id": "cbVOpDIGI4J3"
      }
    },
    {
      "cell_type": "code",
      "source": [
        "#importando a biblioteca\n",
        "df = spark.read.csv('banklist.csv', sep=',', header=True, inferSchema=True) #importando o arquivo csv\n",
        "\n",
        "print('df.count :', df.count()) #mostrando a quantidade de linhas do dataframe\n",
        "print('df.col ct :', len(df.columns)) #mostrando a quantidae de colunas do dataframe\n",
        "print('df.columns :', df.columns) #mostrando as colunas do dataframe"
      ],
      "metadata": {
        "colab": {
          "base_uri": "https://localhost:8080/"
        },
        "id": "I8QaBTreILYe",
        "outputId": "39a17e69-75ac-4a0c-b519-0bedd97ba8f3"
      },
      "execution_count": 13,
      "outputs": [
        {
          "output_type": "stream",
          "name": "stdout",
          "text": [
            "df.count : 561\n",
            "df.col ct : 6\n",
            "df.columns : ['Bank Name', 'City', 'ST', 'CERT', 'Acquiring Institution', 'Closing Date']\n"
          ]
        }
      ]
    },
    {
      "cell_type": "markdown",
      "source": [
        "# Using SQL in PySpark"
      ],
      "metadata": {
        "id": "e0rA_LIeMDeq"
      }
    },
    {
      "cell_type": "code",
      "source": [
        "df.createOrReplaceTempView('banklist') #criando uma view temporária do dataframe\n",
        "\n",
        "df_check = spark.sql(''' select `Bank Name`, `City`, `Closing Date` from banklist''') #criando um dataframe com a view temporária\n",
        "df_check.show() #mostrando o dataframe"
      ],
      "metadata": {
        "colab": {
          "base_uri": "https://localhost:8080/"
        },
        "id": "EOLK1ToHL7jH",
        "outputId": "1b2e8d5a-505b-4e6e-86a6-e626a72b0258"
      },
      "execution_count": 16,
      "outputs": [
        {
          "output_type": "stream",
          "name": "stdout",
          "text": [
            "+--------------------+------------------+------------+\n",
            "|           Bank Name|              City|Closing Date|\n",
            "+--------------------+------------------+------------+\n",
            "|The First State Bank|     Barboursville|    3-Apr-20|\n",
            "|  Ericson State Bank|           Ericson|   14-Feb-20|\n",
            "|City National Ban...|            Newark|    1-Nov-19|\n",
            "|       Resolute Bank|            Maumee|   25-Oct-19|\n",
            "|Louisa Community ...|            Louisa|   25-Oct-19|\n",
            "|The Enloe State Bank|            Cooper|   31-May-19|\n",
            "|Washington Federa...|           Chicago|   15-Dec-17|\n",
            "|The Farmers and M...|           Argonia|   13-Oct-17|\n",
            "| Fayette County Bank|        Saint Elmo|   26-May-17|\n",
            "|Guaranty Bank, (d...|         Milwaukee|    5-May-17|\n",
            "|      First NBC Bank|       New Orleans|   28-Apr-17|\n",
            "|       Proficio Bank|Cottonwood Heights|    3-Mar-17|\n",
            "|Seaway Bank and T...|           Chicago|   27-Jan-17|\n",
            "|Harvest Community...|        Pennsville|   13-Jan-17|\n",
            "|         Allied Bank|          Mulberry|   23-Sep-16|\n",
            "|The Woodbury Bank...|          Woodbury|   19-Aug-16|\n",
            "|First CornerStone...|   King of Prussia|    6-May-16|\n",
            "|  Trust Company Bank|           Memphis|   29-Apr-16|\n",
            "|North Milwaukee S...|         Milwaukee|   11-Mar-16|\n",
            "|Hometown National...|          Longview|    2-Oct-15|\n",
            "+--------------------+------------------+------------+\n",
            "only showing top 20 rows\n",
            "\n"
          ]
        }
      ]
    },
    {
      "cell_type": "markdown",
      "source": [
        "# Operações Básicas de DataFrame"
      ],
      "metadata": {
        "id": "YhCAAlzFMxSq"
      }
    },
    {
      "cell_type": "code",
      "source": [
        "df.describe().show() #mostrando as estatísticas do dataframe"
      ],
      "metadata": {
        "colab": {
          "base_uri": "https://localhost:8080/"
        },
        "id": "1oE9hhxBMgiu",
        "outputId": "4139a52a-6c27-4cf7-cc7a-048ae15076bc"
      },
      "execution_count": 17,
      "outputs": [
        {
          "output_type": "stream",
          "name": "stdout",
          "text": [
            "+-------+--------------------+-------+----+-----------------+---------------------+------------+\n",
            "|summary|           Bank Name|   City|  ST|             CERT|Acquiring Institution|Closing Date|\n",
            "+-------+--------------------+-------+----+-----------------+---------------------+------------+\n",
            "|  count|                 561|    561| 561|              561|                  561|         561|\n",
            "|   mean|                NULL|   NULL|NULL|31685.68449197861|                 NULL|        NULL|\n",
            "| stddev|                NULL|   NULL|NULL|16446.65659309965|                 NULL|        NULL|\n",
            "|    min|1st American Stat...|Acworth|  AL|               91|      1st United Bank|    1-Aug-08|\n",
            "|    max|               ebank|Wyoming|  WY|            58701|  Your Community Bank|    9-Sep-11|\n",
            "+-------+--------------------+-------+----+-----------------+---------------------+------------+\n",
            "\n"
          ]
        }
      ]
    },
    {
      "cell_type": "code",
      "source": [
        "df.describe('City', 'ST').show() #mostrando as estatísticas da coluna City e State"
      ],
      "metadata": {
        "colab": {
          "base_uri": "https://localhost:8080/"
        },
        "id": "TjD6-r2cM5zx",
        "outputId": "269bbfc8-a7b4-4413-9fe9-27676d815d0a"
      },
      "execution_count": 18,
      "outputs": [
        {
          "output_type": "stream",
          "name": "stdout",
          "text": [
            "+-------+-------+----+\n",
            "|summary|   City|  ST|\n",
            "+-------+-------+----+\n",
            "|  count|    561| 561|\n",
            "|   mean|   NULL|NULL|\n",
            "| stddev|   NULL|NULL|\n",
            "|    min|Acworth|  AL|\n",
            "|    max|Wyoming|  WY|\n",
            "+-------+-------+----+\n",
            "\n"
          ]
        }
      ]
    },
    {
      "cell_type": "code",
      "source": [
        "#Count, Columns e Schema\n",
        "\n",
        "print('Total de Linhas :', df.count()) #mostrando a quantidade de linhas do dataframe\n",
        "print('Total de Colunas :', len(df.columns)) #mostrando a quantidae de colunas do dataframe\n",
        "print('Colunas :', df.columns) #mostrando as colunas do dataframe\n",
        "print('Schema: ', df.schema) #mostrando o schema do dataframe\n",
        "print('Tipo de Dados :', df.dtypes) #mostrando os tipos de dados das colunas"
      ],
      "metadata": {
        "colab": {
          "base_uri": "https://localhost:8080/"
        },
        "id": "kJdUtB9oNGGp",
        "outputId": "dbfd762b-4af0-4fcc-9914-9cfcd72c2c29"
      },
      "execution_count": 22,
      "outputs": [
        {
          "output_type": "stream",
          "name": "stdout",
          "text": [
            "Total de Linhas : 561\n",
            "Total de Colunas : 6\n",
            "Colunas : ['Bank Name', 'City', 'ST', 'CERT', 'Acquiring Institution', 'Closing Date']\n",
            "Schema:  StructType([StructField('Bank Name', StringType(), True), StructField('City', StringType(), True), StructField('ST', StringType(), True), StructField('CERT', IntegerType(), True), StructField('Acquiring Institution', StringType(), True), StructField('Closing Date', StringType(), True)])\n",
            "Tipo de Dados : [('Bank Name', 'string'), ('City', 'string'), ('ST', 'string'), ('CERT', 'int'), ('Acquiring Institution', 'string'), ('Closing Date', 'string')]\n"
          ]
        }
      ]
    },
    {
      "cell_type": "code",
      "source": [
        "df.printSchema() #mostrando o schema do dataframe"
      ],
      "metadata": {
        "colab": {
          "base_uri": "https://localhost:8080/"
        },
        "id": "kTvvfo2DNgM0",
        "outputId": "a456bd5a-3770-46c7-eabf-946f3bf07052"
      },
      "execution_count": 23,
      "outputs": [
        {
          "output_type": "stream",
          "name": "stdout",
          "text": [
            "root\n",
            " |-- Bank Name: string (nullable = true)\n",
            " |-- City: string (nullable = true)\n",
            " |-- ST: string (nullable = true)\n",
            " |-- CERT: integer (nullable = true)\n",
            " |-- Acquiring Institution: string (nullable = true)\n",
            " |-- Closing Date: string (nullable = true)\n",
            "\n"
          ]
        }
      ]
    },
    {
      "cell_type": "code",
      "source": [
        "#Removendo duplicados\n",
        "\n",
        "df.dropDuplicates() #removendo os duplicados do dataframe\n",
        "print('Total de Linhas :', df.count()) #mostrando a quantidade de linhas do dataframe\n",
        "print('Colunas :', df.columns) #mostrando as colunas do dataframe"
      ],
      "metadata": {
        "colab": {
          "base_uri": "https://localhost:8080/"
        },
        "id": "SbfGmwlON01-",
        "outputId": "5aa2c475-f325-468b-b59e-a4c67674a083"
      },
      "execution_count": 27,
      "outputs": [
        {
          "output_type": "stream",
          "name": "stdout",
          "text": [
            "Total de Linhas : 561\n",
            "Colunas : ['Bank Name', 'City', 'ST', 'CERT', 'Acquiring Institution', 'Closing Date']\n"
          ]
        }
      ]
    },
    {
      "cell_type": "code",
      "source": [
        "#Selecionando colunas específicas - FUNCTION SELECT\n",
        "\n",
        "df2 = df.select(*['Bank Name', 'City']) #selecionando as colunas Bank Name e City\n",
        "df2.show(2) #mostrando o dataframe com 2 linhas\n"
      ],
      "metadata": {
        "colab": {
          "base_uri": "https://localhost:8080/"
        },
        "id": "uvY8INt1N997",
        "outputId": "2fb69a11-74d8-44b2-a9de-3ff6c7f00774"
      },
      "execution_count": 30,
      "outputs": [
        {
          "output_type": "stream",
          "name": "stdout",
          "text": [
            "+--------------------+-------------+\n",
            "|           Bank Name|         City|\n",
            "+--------------------+-------------+\n",
            "|The First State Bank|Barboursville|\n",
            "|  Ericson State Bank|      Ericson|\n",
            "+--------------------+-------------+\n",
            "only showing top 2 rows\n",
            "\n"
          ]
        }
      ]
    },
    {
      "cell_type": "code",
      "source": [
        "#Selecionando múltiplas colunas\n",
        "col_1 = list(set(df.columns) - {'CERT', 'ST'}) #selecionando as colunas para não aparecer\n",
        "df2 = df.select(*col_1) #selecionando as colunas\n",
        "df2.show(2) #mostrando o dataframe com 2 linhas"
      ],
      "metadata": {
        "colab": {
          "base_uri": "https://localhost:8080/"
        },
        "id": "CYx8ejDQOsFu",
        "outputId": "bddbcb9d-c484-4242-d2e2-da8c013e4b1c"
      },
      "execution_count": 32,
      "outputs": [
        {
          "output_type": "stream",
          "name": "stdout",
          "text": [
            "+------------+-------------+--------------------+---------------------+\n",
            "|Closing Date|         City|           Bank Name|Acquiring Institution|\n",
            "+------------+-------------+--------------------+---------------------+\n",
            "|    3-Apr-20|Barboursville|The First State Bank|       MVB Bank, Inc.|\n",
            "|   14-Feb-20|      Ericson|  Ericson State Bank| Farmers and Merch...|\n",
            "+------------+-------------+--------------------+---------------------+\n",
            "only showing top 2 rows\n",
            "\n"
          ]
        }
      ]
    },
    {
      "cell_type": "code",
      "source": [
        "#Renomear colunas\n",
        "\n",
        "df2 = df \\\n",
        "  .withColumnRenamed('Bank Name', 'bank_name') \\\n",
        "  .withColumnRenamed('Acquiring Institution', 'acq_institution') \\\n",
        "  .withColumnRenamed('Closing Date', 'closing_date') \\\n",
        "  .withColumnRenamed('ST', 'state') \\\n",
        "  .withColumnRenamed('CERT', 'cert')\n",
        "df2.show(2) #mostrando o dataframe com 2 linhas"
      ],
      "metadata": {
        "colab": {
          "base_uri": "https://localhost:8080/"
        },
        "id": "kChhr0UGO87k",
        "outputId": "1c87220b-73ad-4891-e9c6-6bb408543498"
      },
      "execution_count": 33,
      "outputs": [
        {
          "output_type": "stream",
          "name": "stdout",
          "text": [
            "+--------------------+-------------+-----+-----+--------------------+------------+\n",
            "|           bank_name|         City|state| cert|     acq_institution|closing_date|\n",
            "+--------------------+-------------+-----+-----+--------------------+------------+\n",
            "|The First State Bank|Barboursville|   WV|14361|      MVB Bank, Inc.|    3-Apr-20|\n",
            "|  Ericson State Bank|      Ericson|   NE|18265|Farmers and Merch...|   14-Feb-20|\n",
            "+--------------------+-------------+-----+-----+--------------------+------------+\n",
            "only showing top 2 rows\n",
            "\n"
          ]
        }
      ]
    },
    {
      "cell_type": "code",
      "source": [
        "#Adicionando colunas\n",
        "\n",
        "df2 = df.withColumn('state', col('ST')) #adicionando a coluna state com os dados da coluna ST\n",
        "df2.show() #mostrando o dataframe"
      ],
      "metadata": {
        "colab": {
          "base_uri": "https://localhost:8080/"
        },
        "id": "lVJdS-uvPnpf",
        "outputId": "15a4c5c1-4d2f-459c-f73d-e6cabd13d861"
      },
      "execution_count": 34,
      "outputs": [
        {
          "output_type": "stream",
          "name": "stdout",
          "text": [
            "+--------------------+------------------+---+-----+---------------------+------------+-----+\n",
            "|           Bank Name|              City| ST| CERT|Acquiring Institution|Closing Date|state|\n",
            "+--------------------+------------------+---+-----+---------------------+------------+-----+\n",
            "|The First State Bank|     Barboursville| WV|14361|       MVB Bank, Inc.|    3-Apr-20|   WV|\n",
            "|  Ericson State Bank|           Ericson| NE|18265| Farmers and Merch...|   14-Feb-20|   NE|\n",
            "|City National Ban...|            Newark| NJ|21111|      Industrial Bank|    1-Nov-19|   NJ|\n",
            "|       Resolute Bank|            Maumee| OH|58317|   Buckeye State Bank|   25-Oct-19|   OH|\n",
            "|Louisa Community ...|            Louisa| KY|58112| Kentucky Farmers ...|   25-Oct-19|   KY|\n",
            "|The Enloe State Bank|            Cooper| TX|10716|   Legend Bank, N. A.|   31-May-19|   TX|\n",
            "|Washington Federa...|           Chicago| IL|30570|   Royal Savings Bank|   15-Dec-17|   IL|\n",
            "|The Farmers and M...|           Argonia| KS|17719|          Conway Bank|   13-Oct-17|   KS|\n",
            "| Fayette County Bank|        Saint Elmo| IL| 1802| United Fidelity B...|   26-May-17|   IL|\n",
            "|Guaranty Bank, (d...|         Milwaukee| WI|30003| First-Citizens Ba...|    5-May-17|   WI|\n",
            "|      First NBC Bank|       New Orleans| LA|58302|         Whitney Bank|   28-Apr-17|   LA|\n",
            "|       Proficio Bank|Cottonwood Heights| UT|35495|    Cache Valley Bank|    3-Mar-17|   UT|\n",
            "|Seaway Bank and T...|           Chicago| IL|19328|  State Bank of Texas|   27-Jan-17|   IL|\n",
            "|Harvest Community...|        Pennsville| NJ|34951| First-Citizens Ba...|   13-Jan-17|   NJ|\n",
            "|         Allied Bank|          Mulberry| AR|   91|         Today's Bank|   23-Sep-16|   AR|\n",
            "|The Woodbury Bank...|          Woodbury| GA|11297|          United Bank|   19-Aug-16|   GA|\n",
            "|First CornerStone...|   King of Prussia| PA|35312| First-Citizens Ba...|    6-May-16|   PA|\n",
            "|  Trust Company Bank|           Memphis| TN| 9956| The Bank of Fayet...|   29-Apr-16|   TN|\n",
            "|North Milwaukee S...|         Milwaukee| WI|20364| First-Citizens Ba...|   11-Mar-16|   WI|\n",
            "|Hometown National...|          Longview| WA|35156|       Twin City Bank|    2-Oct-15|   WA|\n",
            "+--------------------+------------------+---+-----+---------------------+------------+-----+\n",
            "only showing top 20 rows\n",
            "\n"
          ]
        }
      ]
    },
    {
      "cell_type": "code",
      "source": [
        "#Adicionando coluna constante\n",
        "\n",
        "df2 = df.withColumn('country', lit('US')) #adicionando a coluna country com dados fixos (US)\n",
        "df2.show() #mostrando o dataframe"
      ],
      "metadata": {
        "colab": {
          "base_uri": "https://localhost:8080/"
        },
        "id": "ZtUiMhaLQLwY",
        "outputId": "372387fa-2dc9-40d1-fb9d-56b084d0abc6"
      },
      "execution_count": 35,
      "outputs": [
        {
          "output_type": "stream",
          "name": "stdout",
          "text": [
            "+--------------------+------------------+---+-----+---------------------+------------+-------+\n",
            "|           Bank Name|              City| ST| CERT|Acquiring Institution|Closing Date|country|\n",
            "+--------------------+------------------+---+-----+---------------------+------------+-------+\n",
            "|The First State Bank|     Barboursville| WV|14361|       MVB Bank, Inc.|    3-Apr-20|     US|\n",
            "|  Ericson State Bank|           Ericson| NE|18265| Farmers and Merch...|   14-Feb-20|     US|\n",
            "|City National Ban...|            Newark| NJ|21111|      Industrial Bank|    1-Nov-19|     US|\n",
            "|       Resolute Bank|            Maumee| OH|58317|   Buckeye State Bank|   25-Oct-19|     US|\n",
            "|Louisa Community ...|            Louisa| KY|58112| Kentucky Farmers ...|   25-Oct-19|     US|\n",
            "|The Enloe State Bank|            Cooper| TX|10716|   Legend Bank, N. A.|   31-May-19|     US|\n",
            "|Washington Federa...|           Chicago| IL|30570|   Royal Savings Bank|   15-Dec-17|     US|\n",
            "|The Farmers and M...|           Argonia| KS|17719|          Conway Bank|   13-Oct-17|     US|\n",
            "| Fayette County Bank|        Saint Elmo| IL| 1802| United Fidelity B...|   26-May-17|     US|\n",
            "|Guaranty Bank, (d...|         Milwaukee| WI|30003| First-Citizens Ba...|    5-May-17|     US|\n",
            "|      First NBC Bank|       New Orleans| LA|58302|         Whitney Bank|   28-Apr-17|     US|\n",
            "|       Proficio Bank|Cottonwood Heights| UT|35495|    Cache Valley Bank|    3-Mar-17|     US|\n",
            "|Seaway Bank and T...|           Chicago| IL|19328|  State Bank of Texas|   27-Jan-17|     US|\n",
            "|Harvest Community...|        Pennsville| NJ|34951| First-Citizens Ba...|   13-Jan-17|     US|\n",
            "|         Allied Bank|          Mulberry| AR|   91|         Today's Bank|   23-Sep-16|     US|\n",
            "|The Woodbury Bank...|          Woodbury| GA|11297|          United Bank|   19-Aug-16|     US|\n",
            "|First CornerStone...|   King of Prussia| PA|35312| First-Citizens Ba...|    6-May-16|     US|\n",
            "|  Trust Company Bank|           Memphis| TN| 9956| The Bank of Fayet...|   29-Apr-16|     US|\n",
            "|North Milwaukee S...|         Milwaukee| WI|20364| First-Citizens Ba...|   11-Mar-16|     US|\n",
            "|Hometown National...|          Longview| WA|35156|       Twin City Bank|    2-Oct-15|     US|\n",
            "+--------------------+------------------+---+-----+---------------------+------------+-------+\n",
            "only showing top 20 rows\n",
            "\n"
          ]
        }
      ]
    },
    {
      "cell_type": "code",
      "source": [
        "#Apagando colunas - DROP\n",
        "\n",
        "df2 = df.drop('CERT') #apagando a coluna CERT\n",
        "df2.show() #mostrando o dataframe"
      ],
      "metadata": {
        "colab": {
          "base_uri": "https://localhost:8080/"
        },
        "id": "Jmw9TwROQib1",
        "outputId": "8393b520-444b-4481-facf-10153b7628e6"
      },
      "execution_count": 36,
      "outputs": [
        {
          "output_type": "stream",
          "name": "stdout",
          "text": [
            "+--------------------+------------------+---+---------------------+------------+\n",
            "|           Bank Name|              City| ST|Acquiring Institution|Closing Date|\n",
            "+--------------------+------------------+---+---------------------+------------+\n",
            "|The First State Bank|     Barboursville| WV|       MVB Bank, Inc.|    3-Apr-20|\n",
            "|  Ericson State Bank|           Ericson| NE| Farmers and Merch...|   14-Feb-20|\n",
            "|City National Ban...|            Newark| NJ|      Industrial Bank|    1-Nov-19|\n",
            "|       Resolute Bank|            Maumee| OH|   Buckeye State Bank|   25-Oct-19|\n",
            "|Louisa Community ...|            Louisa| KY| Kentucky Farmers ...|   25-Oct-19|\n",
            "|The Enloe State Bank|            Cooper| TX|   Legend Bank, N. A.|   31-May-19|\n",
            "|Washington Federa...|           Chicago| IL|   Royal Savings Bank|   15-Dec-17|\n",
            "|The Farmers and M...|           Argonia| KS|          Conway Bank|   13-Oct-17|\n",
            "| Fayette County Bank|        Saint Elmo| IL| United Fidelity B...|   26-May-17|\n",
            "|Guaranty Bank, (d...|         Milwaukee| WI| First-Citizens Ba...|    5-May-17|\n",
            "|      First NBC Bank|       New Orleans| LA|         Whitney Bank|   28-Apr-17|\n",
            "|       Proficio Bank|Cottonwood Heights| UT|    Cache Valley Bank|    3-Mar-17|\n",
            "|Seaway Bank and T...|           Chicago| IL|  State Bank of Texas|   27-Jan-17|\n",
            "|Harvest Community...|        Pennsville| NJ| First-Citizens Ba...|   13-Jan-17|\n",
            "|         Allied Bank|          Mulberry| AR|         Today's Bank|   23-Sep-16|\n",
            "|The Woodbury Bank...|          Woodbury| GA|          United Bank|   19-Aug-16|\n",
            "|First CornerStone...|   King of Prussia| PA| First-Citizens Ba...|    6-May-16|\n",
            "|  Trust Company Bank|           Memphis| TN| The Bank of Fayet...|   29-Apr-16|\n",
            "|North Milwaukee S...|         Milwaukee| WI| First-Citizens Ba...|   11-Mar-16|\n",
            "|Hometown National...|          Longview| WA|       Twin City Bank|    2-Oct-15|\n",
            "+--------------------+------------------+---+---------------------+------------+\n",
            "only showing top 20 rows\n",
            "\n"
          ]
        }
      ]
    },
    {
      "cell_type": "code",
      "source": [
        "#Apagando múltiplas colunas - DROP\n",
        "\n",
        "df2 = df.drop(*['CERT', 'ST']) #apagando as colunas CERT e ST\n",
        "df2.show() #mostrando o dataframe"
      ],
      "metadata": {
        "colab": {
          "base_uri": "https://localhost:8080/"
        },
        "id": "c-jpXH7hQqK5",
        "outputId": "f250e2f5-f580-450c-b4f5-570b7f4f36ae"
      },
      "execution_count": 38,
      "outputs": [
        {
          "output_type": "stream",
          "name": "stdout",
          "text": [
            "+--------------------+------------------+---------------------+------------+\n",
            "|           Bank Name|              City|Acquiring Institution|Closing Date|\n",
            "+--------------------+------------------+---------------------+------------+\n",
            "|The First State Bank|     Barboursville|       MVB Bank, Inc.|    3-Apr-20|\n",
            "|  Ericson State Bank|           Ericson| Farmers and Merch...|   14-Feb-20|\n",
            "|City National Ban...|            Newark|      Industrial Bank|    1-Nov-19|\n",
            "|       Resolute Bank|            Maumee|   Buckeye State Bank|   25-Oct-19|\n",
            "|Louisa Community ...|            Louisa| Kentucky Farmers ...|   25-Oct-19|\n",
            "|The Enloe State Bank|            Cooper|   Legend Bank, N. A.|   31-May-19|\n",
            "|Washington Federa...|           Chicago|   Royal Savings Bank|   15-Dec-17|\n",
            "|The Farmers and M...|           Argonia|          Conway Bank|   13-Oct-17|\n",
            "| Fayette County Bank|        Saint Elmo| United Fidelity B...|   26-May-17|\n",
            "|Guaranty Bank, (d...|         Milwaukee| First-Citizens Ba...|    5-May-17|\n",
            "|      First NBC Bank|       New Orleans|         Whitney Bank|   28-Apr-17|\n",
            "|       Proficio Bank|Cottonwood Heights|    Cache Valley Bank|    3-Mar-17|\n",
            "|Seaway Bank and T...|           Chicago|  State Bank of Texas|   27-Jan-17|\n",
            "|Harvest Community...|        Pennsville| First-Citizens Ba...|   13-Jan-17|\n",
            "|         Allied Bank|          Mulberry|         Today's Bank|   23-Sep-16|\n",
            "|The Woodbury Bank...|          Woodbury|          United Bank|   19-Aug-16|\n",
            "|First CornerStone...|   King of Prussia| First-Citizens Ba...|    6-May-16|\n",
            "|  Trust Company Bank|           Memphis| The Bank of Fayet...|   29-Apr-16|\n",
            "|North Milwaukee S...|         Milwaukee| First-Citizens Ba...|   11-Mar-16|\n",
            "|Hometown National...|          Longview|       Twin City Bank|    2-Oct-15|\n",
            "+--------------------+------------------+---------------------+------------+\n",
            "only showing top 20 rows\n",
            "\n"
          ]
        }
      ]
    },
    {
      "cell_type": "code",
      "source": [
        "#Apagando múltiplas colunas - REDUCE\n",
        "\n",
        "df2 = reduce(DataFrame.drop, ['CERT', 'ST'], df) #apagando as colunas CERT e ST\n",
        "df2.show() #mostrando o dataframe"
      ],
      "metadata": {
        "colab": {
          "base_uri": "https://localhost:8080/"
        },
        "id": "AfdD01OZQukT",
        "outputId": "57016621-8fbd-4a0c-ad17-7624baf5169a"
      },
      "execution_count": 39,
      "outputs": [
        {
          "output_type": "stream",
          "name": "stdout",
          "text": [
            "+--------------------+------------------+---------------------+------------+\n",
            "|           Bank Name|              City|Acquiring Institution|Closing Date|\n",
            "+--------------------+------------------+---------------------+------------+\n",
            "|The First State Bank|     Barboursville|       MVB Bank, Inc.|    3-Apr-20|\n",
            "|  Ericson State Bank|           Ericson| Farmers and Merch...|   14-Feb-20|\n",
            "|City National Ban...|            Newark|      Industrial Bank|    1-Nov-19|\n",
            "|       Resolute Bank|            Maumee|   Buckeye State Bank|   25-Oct-19|\n",
            "|Louisa Community ...|            Louisa| Kentucky Farmers ...|   25-Oct-19|\n",
            "|The Enloe State Bank|            Cooper|   Legend Bank, N. A.|   31-May-19|\n",
            "|Washington Federa...|           Chicago|   Royal Savings Bank|   15-Dec-17|\n",
            "|The Farmers and M...|           Argonia|          Conway Bank|   13-Oct-17|\n",
            "| Fayette County Bank|        Saint Elmo| United Fidelity B...|   26-May-17|\n",
            "|Guaranty Bank, (d...|         Milwaukee| First-Citizens Ba...|    5-May-17|\n",
            "|      First NBC Bank|       New Orleans|         Whitney Bank|   28-Apr-17|\n",
            "|       Proficio Bank|Cottonwood Heights|    Cache Valley Bank|    3-Mar-17|\n",
            "|Seaway Bank and T...|           Chicago|  State Bank of Texas|   27-Jan-17|\n",
            "|Harvest Community...|        Pennsville| First-Citizens Ba...|   13-Jan-17|\n",
            "|         Allied Bank|          Mulberry|         Today's Bank|   23-Sep-16|\n",
            "|The Woodbury Bank...|          Woodbury|          United Bank|   19-Aug-16|\n",
            "|First CornerStone...|   King of Prussia| First-Citizens Ba...|    6-May-16|\n",
            "|  Trust Company Bank|           Memphis| The Bank of Fayet...|   29-Apr-16|\n",
            "|North Milwaukee S...|         Milwaukee| First-Citizens Ba...|   11-Mar-16|\n",
            "|Hometown National...|          Longview|       Twin City Bank|    2-Oct-15|\n",
            "+--------------------+------------------+---------------------+------------+\n",
            "only showing top 20 rows\n",
            "\n"
          ]
        }
      ]
    },
    {
      "cell_type": "code",
      "source": [
        "#Filtrando valores dentro do DataFrame\n",
        "\n",
        "#filtro = um valor\n",
        "df2 = df.where(df['ST'] == 'NE') #filtrando os valores da coluna ST que são iguais a NE\n",
        "\n",
        "#filtro entre dois valores\n",
        "df3 = df.where(df['CERT'].between(1000, 2000)) #filtrando os valores da coluna CERT que estão entre 1000 e 2000\n",
        "\n",
        "#filtro = mais de um valor\n",
        "df4 = df.where(df['ST'].isin('NE', 'IL')) #filtrando os valores da coluna ST que são iguais a NE e IL\n",
        "\n",
        "print('df2.count :', df2.count()) #mostrando a quantidade de linhas do dataframe\n",
        "print('df3.count :', df3.count()) #mostrando a quantidade de linhas do dataframe\n",
        "print('df4.count :', df4.count()) #mostrando a quantidade de linhas do dataframe"
      ],
      "metadata": {
        "colab": {
          "base_uri": "https://localhost:8080/"
        },
        "id": "kSOunV_QRCZE",
        "outputId": "d53809dd-ee93-49c6-ca5c-6f82fda3fd98"
      },
      "execution_count": 42,
      "outputs": [
        {
          "output_type": "stream",
          "name": "stdout",
          "text": [
            "df2.count : 4\n",
            "df3.count : 9\n",
            "df4.count : 73\n"
          ]
        }
      ]
    },
    {
      "cell_type": "code",
      "source": [
        "#Filtrando usando operadores lógicos\n",
        "\n",
        "df2 = df.where((df['ST'] == 'NE') & (df['City'] == 'Ericson')) #filtrando os valores da coluna ST que são iguais a NE e os valores da coluna City que são iguais a Ericson\n",
        "df2.show() #mostrando o dataframe"
      ],
      "metadata": {
        "colab": {
          "base_uri": "https://localhost:8080/"
        },
        "id": "78tsG3ISRn_G",
        "outputId": "748ae413-bff2-4213-9709-c9999dbe5932"
      },
      "execution_count": 43,
      "outputs": [
        {
          "output_type": "stream",
          "name": "stdout",
          "text": [
            "+------------------+-------+---+-----+---------------------+------------+\n",
            "|         Bank Name|   City| ST| CERT|Acquiring Institution|Closing Date|\n",
            "+------------------+-------+---+-----+---------------------+------------+\n",
            "|Ericson State Bank|Ericson| NE|18265| Farmers and Merch...|   14-Feb-20|\n",
            "+------------------+-------+---+-----+---------------------+------------+\n",
            "\n"
          ]
        }
      ]
    },
    {
      "cell_type": "code",
      "source": [
        "#Substituindo valores\n",
        "df.show(2) #mostrando o dataframe\n",
        "print('Replace 7 in the above dataframe with 17 at all instances')\n",
        "df.na.replace(7, 17).show(2) #substituindo os valores 7 por 17\n",
        "\n"
      ],
      "metadata": {
        "colab": {
          "base_uri": "https://localhost:8080/"
        },
        "id": "xEOWu_yzS3af",
        "outputId": "a2efb41e-37f6-416a-d658-655b8e26573c"
      },
      "execution_count": 45,
      "outputs": [
        {
          "output_type": "stream",
          "name": "stdout",
          "text": [
            "+--------------------+-------------+---+-----+---------------------+------------+\n",
            "|           Bank Name|         City| ST| CERT|Acquiring Institution|Closing Date|\n",
            "+--------------------+-------------+---+-----+---------------------+------------+\n",
            "|The First State Bank|Barboursville| WV|14361|       MVB Bank, Inc.|    3-Apr-20|\n",
            "|  Ericson State Bank|      Ericson| NE|18265| Farmers and Merch...|   14-Feb-20|\n",
            "+--------------------+-------------+---+-----+---------------------+------------+\n",
            "only showing top 2 rows\n",
            "\n",
            "Replace 7 in the above dataframe with 17 at all instances\n",
            "+--------------------+-------------+---+-----+---------------------+------------+\n",
            "|           Bank Name|         City| ST| CERT|Acquiring Institution|Closing Date|\n",
            "+--------------------+-------------+---+-----+---------------------+------------+\n",
            "|The First State Bank|Barboursville| WV|14361|       MVB Bank, Inc.|    3-Apr-20|\n",
            "|  Ericson State Bank|      Ericson| NE|18265| Farmers and Merch...|   14-Feb-20|\n",
            "+--------------------+-------------+---+-----+---------------------+------------+\n",
            "only showing top 2 rows\n",
            "\n"
          ]
        }
      ]
    },
    {
      "cell_type": "code",
      "source": [],
      "metadata": {
        "id": "BGGkpOSYTJW-"
      },
      "execution_count": null,
      "outputs": []
    }
  ]
}